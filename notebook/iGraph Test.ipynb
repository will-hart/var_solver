{
 "metadata": {
  "name": "iGraph Test"
 },
 "nbformat": 3,
 "nbformat_minor": 0,
 "worksheets": [
  {
   "cells": [
    {
     "cell_type": "code",
     "collapsed": false,
     "input": [
      "import igraph"
     ],
     "language": "python",
     "metadata": {},
     "outputs": [],
     "prompt_number": 56
    },
    {
     "cell_type": "code",
     "collapsed": false,
     "input": [
      "g=igraph.Graph(directed=True)"
     ],
     "language": "python",
     "metadata": {},
     "outputs": [],
     "prompt_number": 57
    },
    {
     "cell_type": "code",
     "collapsed": false,
     "input": [
      "# build up the nodes\n",
      "class NodeBase(object):\n",
      "    name = \"\"\n",
      "    def __init__(self, name):\n",
      "        self._name=name\n",
      "    def result(self):\n",
      "        return self._name\n",
      "\n",
      "a = NodeBase(\"a\")\n",
      "b = NodeBase(\"b\")\n",
      "c = NodeBase(\"c\")\n",
      "d = NodeBase(\"d\")\n",
      "e = NodeBase(\"e\")"
     ],
     "language": "python",
     "metadata": {},
     "outputs": [],
     "prompt_number": 58
    },
    {
     "cell_type": "code",
     "collapsed": false,
     "input": [
      "# add the vertices\n",
      "g.add_vertex(a.result(), obj=a)\n",
      "g.add_vertex(b.result(), obj=b)\n",
      "g.add_vertex(c.result(), obj=c)\n",
      "g.add_vertex(d.result(), obj=d)\n",
      "g.add_vertex(e.result(), obj=e)"
     ],
     "language": "python",
     "metadata": {},
     "outputs": [],
     "prompt_number": 59
    },
    {
     "cell_type": "code",
     "collapsed": false,
     "input": [
      "# add edges\n",
      "g.add_edge(\"a\",\"c\")\n",
      "g.add_edge(\"b\",\"c\")\n",
      "g.add_edge(\"c\",\"d\")\n",
      "g.add_edge(\"b\",\"d\")\n",
      "g.add_edge(\"d\",\"e\")\n",
      "g.add_edge(\"a\",\"e\")"
     ],
     "language": "python",
     "metadata": {},
     "outputs": [],
     "prompt_number": 60
    },
    {
     "cell_type": "code",
     "collapsed": false,
     "input": [
      "# draw the initial plot\n",
      "g.vs['label'] = g.vs['name']\n",
      "layout = g.layout(\"kk\")\n",
      "#igraph.plot(g, layout=layout)"
     ],
     "language": "python",
     "metadata": {},
     "outputs": [],
     "prompt_number": 61
    },
    {
     "cell_type": "code",
     "collapsed": false,
     "input": [
      "# get a minimum spanning tree\n",
      "span_tree = g.spanning_tree()\n",
      "layout = span_tree.layout(\"kk\")\n",
      "#igraph.plot(span_tree, layout=layout)"
     ],
     "language": "python",
     "metadata": {},
     "outputs": [],
     "prompt_number": 62
    },
    {
     "cell_type": "code",
     "collapsed": false,
     "input": [
      "no_pre = [x for x in span_tree.vs if x.predecessors() == []]\n",
      "print no_pre\n",
      "print \"----------------------------------\"\n",
      "print span_tree"
     ],
     "language": "python",
     "metadata": {},
     "outputs": [
      {
       "output_type": "stream",
       "stream": "stdout",
       "text": [
        "[igraph.Vertex(<igraph.Graph object at 0x038A9DB0>,0,{'obj': <__main__.NodeBase object at 0x0540E630>, 'name': 'a', 'label': 'a'}), igraph.Vertex(<igraph.Graph object at 0x038A9DB0>,1,{'obj': <__main__.NodeBase object at 0x0540E5F0>, 'name': 'b', 'label': 'b'})]\n",
        "----------------------------------\n",
        "IGRAPH DN-- 5 4 --\n",
        "+ attr: label (v), name (v), obj (v)\n",
        "+ edges (vertex names):\n",
        "a->c, b->c, c->d, a->e\n"
       ]
      }
     ],
     "prompt_number": 63
    },
    {
     "cell_type": "code",
     "collapsed": false,
     "input": [
      "span_tree.delete_vertices(no_pre)\n",
      "no_pre = [x for x in span_tree.vs if x.predecessors() == []]\n",
      "print no_pre\n",
      "print \"----------------------------------\"\n",
      "print span_tree\n"
     ],
     "language": "python",
     "metadata": {},
     "outputs": [
      {
       "output_type": "stream",
       "stream": "stdout",
       "text": [
        "[igraph.Vertex(<igraph.Graph object at 0x038A9DB0>,0,{'obj': <__main__.NodeBase object at 0x0540E5D0>, 'name': 'c', 'label': 'c'}), igraph.Vertex(<igraph.Graph object at 0x038A9DB0>,2,{'obj': <__main__.NodeBase object at 0x0540E650>, 'name': 'e', 'label': 'e'})]\n",
        "----------------------------------\n",
        "IGRAPH DN-- 3 1 --\n",
        "+ attr: label (v), name (v), obj (v)\n",
        "+ edges (vertex names):\n",
        "c->d\n"
       ]
      }
     ],
     "prompt_number": 64
    },
    {
     "cell_type": "code",
     "collapsed": false,
     "input": [
      "span_tree.delete_vertices(no_pre)\n",
      "no_pre = [x for x in span_tree.vs if x.predecessors() == []]\n",
      "print no_pre\n",
      "print \"----------------------------------\"\n",
      "print span_tree"
     ],
     "language": "python",
     "metadata": {},
     "outputs": [
      {
       "output_type": "stream",
       "stream": "stdout",
       "text": [
        "[igraph.Vertex(<igraph.Graph object at 0x038A9DB0>,0,{'obj': <__main__.NodeBase object at 0x0540E610>, 'name': 'd', 'label': 'd'})]\n",
        "----------------------------------\n",
        "IGRAPH DN-- 1 0 --\n",
        "+ attr: label (v), name (v), obj (v)\n"
       ]
      }
     ],
     "prompt_number": 65
    },
    {
     "cell_type": "code",
     "collapsed": false,
     "input": [
      "span_tree.delete_vertices(no_pre)\n",
      "no_pre = [x for x in span_tree.vs if x.predecessors() == []]\n",
      "print no_pre\n",
      "print \"----------------------------------\"\n",
      "print span_tree"
     ],
     "language": "python",
     "metadata": {},
     "outputs": [
      {
       "output_type": "stream",
       "stream": "stdout",
       "text": [
        "[]\n",
        "----------------------------------\n",
        "IGRAPH DN-- 0 0 --\n",
        "+ attr: label (v), name (v), obj (v)\n"
       ]
      }
     ],
     "prompt_number": 66
    },
    {
     "cell_type": "code",
     "collapsed": false,
     "input": [],
     "language": "python",
     "metadata": {},
     "outputs": []
    }
   ],
   "metadata": {}
  }
 ]
}