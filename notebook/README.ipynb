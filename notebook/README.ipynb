{
 "metadata": {
  "name": "README"
 },
 "nbformat": 3,
 "nbformat_minor": 0,
 "worksheets": [
  {
   "cells": [
    {
     "cell_type": "markdown",
     "metadata": {},
     "source": [
      "# Suspension Vars\n",
      "\n",
      "A simple dependent variable solver, original designed for solving suspension geometry problems but \n",
      "suitable for any kind of relatively complex problem where variables have a number of dependencies\n",
      "on other dependent or independent variable.\n"
     ]
    },
    {
     "cell_type": "code",
     "collapsed": false,
     "input": [],
     "language": "python",
     "metadata": {},
     "outputs": []
    }
   ],
   "metadata": {}
  }
 ]
}